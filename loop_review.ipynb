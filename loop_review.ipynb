{
 "cells": [
  {
   "cell_type": "code",
   "execution_count": 1,
   "id": "68e29754",
   "metadata": {},
   "outputs": [
    {
     "name": "stdout",
     "output_type": "stream",
     "text": [
      "REVERSE #1 \n",
      "REVERSE #2 I\n",
      "REVERSE #1 I\n",
      "REVERSE #2  I\n",
      "REVERSE #1  I\n",
      "REVERSE #2 l I\n",
      "REVERSE #1 l I\n",
      "REVERSE #2 ol I\n",
      "REVERSE #1 ol I\n",
      "REVERSE #2 vol I\n",
      "REVERSE #1 vol I\n",
      "REVERSE #2 evol I\n",
      "REVERSE #1 evol I\n",
      "REVERSE #2  evol I\n",
      "REVERSE #1  evol I\n",
      "REVERSE #2 y evol I\n",
      "REVERSE #1 y evol I\n",
      "REVERSE #2 oy evol I\n",
      "REVERSE #1 oy evol I\n",
      "REVERSE #2 uoy evol I\n"
     ]
    }
   ],
   "source": [
    "sentence = \"I love you\"\n",
    "reverse_sen = \"\"\n",
    "\n",
    "for char in sentence:\n",
    "    print(\"REVERSE #1\", reverse_sen)\n",
    "    reverse_sen = char + reverse_sen\n",
    "    print(\"REVERSE #2\", reverse_sen)"
   ]
  },
  {
   "cell_type": "code",
   "execution_count": 2,
   "id": "01674b3a",
   "metadata": {},
   "outputs": [
    {
     "name": "stdout",
     "output_type": "stream",
     "text": [
      "I\n",
      " I\n",
      "l I\n",
      "ol I\n",
      "vol I\n",
      "evol I\n",
      " evol I\n",
      "y evol I\n",
      "oy evol I\n",
      "uoy evol I\n"
     ]
    }
   ],
   "source": [
    "sentence = \"I love you\"\n",
    "reverse_sen = \"\"\n",
    "\n",
    "for char in sentence:\n",
    "    reverse_sen = char + reverse_sen\n",
    "    print(reverse_sen)"
   ]
  },
  {
   "cell_type": "code",
   "execution_count": 3,
   "id": "9e03b1aa",
   "metadata": {},
   "outputs": [
    {
     "name": "stdout",
     "output_type": "stream",
     "text": [
      "I\n",
      " \n",
      "l\n",
      "o\n",
      "v\n",
      "e\n",
      " \n",
      "y\n",
      "o\n",
      "u\n"
     ]
    }
   ],
   "source": [
    "sentence = \"I love you\"\n",
    "reverse_sen = \"\"\n",
    "\n",
    "for char in sentence:\n",
    "    print(char)"
   ]
  },
  {
   "cell_type": "code",
   "execution_count": 13,
   "id": "05e01184",
   "metadata": {},
   "outputs": [
    {
     "name": "stdout",
     "output_type": "stream",
     "text": [
      "십진수를 입력해주세요 : 10\n",
      "// 전 :  10\n",
      "// 후 :  5\n",
      "// 전 :  5\n",
      "// 후 :  2\n",
      "// 전 :  2\n",
      "// 후 :  1\n",
      "// 전 :  1\n",
      "// 후 :  0\n",
      "1010\n"
     ]
    }
   ],
   "source": [
    "decimal  = int(input(\"십진수를 입력해주세요 : \"))\n",
    "result = \"\"\n",
    "\n",
    "while decimal > 0:\n",
    "    remainder = decimal % 2\n",
    "    print(\"// 전 : \", decimal)\n",
    "    decimal = decimal // 2\n",
    "    print(\"// 후 : \", decimal)\n",
    "    # // : 나누기이후 소숫점아래의 수는 버리고 정수부분만 사용\n",
    "    result = str(remainder) + result\n",
    "    \n",
    "print(result)"
   ]
  },
  {
   "cell_type": "code",
   "execution_count": 15,
   "id": "a94cfc71",
   "metadata": {},
   "outputs": [
    {
     "name": "stdout",
     "output_type": "stream",
     "text": [
      "input decimal number: \n",
      "10\n",
      "-------- 1 loop value check-------\n",
      "Initial decimal:  10 , Remainder:  0 , Initial result:  \n",
      "Output decimal:  5 Output result:  0\n",
      "---------------------------------------------------\n",
      "\n",
      "-------- 2 loop value check-------\n",
      "Initial decimal:  5 , Remainder:  1 , Initial result:  0\n",
      "Output decimal:  2 Output result:  10\n",
      "---------------------------------------------------\n",
      "\n",
      "-------- 3 loop value check-------\n",
      "Initial decimal:  2 , Remainder:  0 , Initial result:  10\n",
      "Output decimal:  1 Output result:  010\n",
      "---------------------------------------------------\n",
      "\n",
      "-------- 4 loop value check-------\n",
      "Initial decimal:  1 , Remainder:  1 , Initial result:  010\n",
      "Output decimal:  0 Output result:  1010\n",
      "---------------------------------------------------\n",
      "\n",
      "Binary number is  1010\n"
     ]
    }
   ],
   "source": [
    "print(\"input decimal number: \")\n",
    "decimal = int(input())\n",
    "result = \"\"\n",
    "loop_counter = 1\n",
    "while (decimal > 0):\n",
    "    temp_decimal_input = decimal\n",
    "    temp_result_input = result\n",
    "    \n",
    "    remainder = decimal % 2\n",
    "    decimal = decimal // 2\n",
    "    result = str(remainder) + result\n",
    "    \n",
    "    print(\"--------\", loop_counter, \"loop value check-------\")\n",
    "    print(\"Initial decimal: \", temp_decimal_input, \", Remainder: \", remainder,\n",
    "         \", Initial result: \", temp_result_input)\n",
    "    print(\"Output decimal: \", decimal, \" Output result: \", result)\n",
    "    print(\"---------------------------------------------------\")\n",
    "    print(\"\")\n",
    "    loop_counter += 1\n",
    "print(\"Binary number is \", result)"
   ]
  },
  {
   "cell_type": "code",
   "execution_count": null,
   "id": "d1dac799",
   "metadata": {},
   "outputs": [],
   "source": []
  }
 ],
 "metadata": {
  "kernelspec": {
   "display_name": "Python 3 (ipykernel)",
   "language": "python",
   "name": "python3"
  },
  "language_info": {
   "codemirror_mode": {
    "name": "ipython",
    "version": 3
   },
   "file_extension": ".py",
   "mimetype": "text/x-python",
   "name": "python",
   "nbconvert_exporter": "python",
   "pygments_lexer": "ipython3",
   "version": "3.8.10"
  }
 },
 "nbformat": 4,
 "nbformat_minor": 5
}
