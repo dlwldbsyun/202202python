{
 "cells": [
  {
   "cell_type": "code",
   "execution_count": null,
   "id": "409c913c",
   "metadata": {},
   "outputs": [],
   "source": [
    "# stack : LIFO\n",
    "# queue : FIFO\n",
    "# tuple : 값의 변경이 불가능 ()\n",
    "# set : 값을 순서없이 저장, 중복 불허하는 자료형"
   ]
  }
 ],
 "metadata": {
  "kernelspec": {
   "display_name": "Python 3 (ipykernel)",
   "language": "python",
   "name": "python3"
  },
  "language_info": {
   "codemirror_mode": {
    "name": "ipython",
    "version": 3
   },
   "file_extension": ".py",
   "mimetype": "text/x-python",
   "name": "python",
   "nbconvert_exporter": "python",
   "pygments_lexer": "ipython3",
   "version": "3.8.10"
  }
 },
 "nbformat": 4,
 "nbformat_minor": 5
}
