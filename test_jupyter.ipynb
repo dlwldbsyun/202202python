{
 "cells": [
  {
   "cell_type": "code",
   "execution_count": 1,
   "id": "795c31b7",
   "metadata": {},
   "outputs": [
    {
     "name": "stdout",
     "output_type": "stream",
     "text": [
      "one two\n",
      "one two\n",
      "1 2\n",
      "1 2\n"
     ]
    }
   ],
   "source": [
    "print('%s %s' % ('one', 'two'))\n",
    "print('{} {}'.format('one', 'two'))\n",
    "print('%d %d' % (1, 2))\n",
    "print('{} {}'.format(1, 2))"
   ]
  },
  {
   "cell_type": "code",
   "execution_count": 3,
   "id": "72e5b996",
   "metadata": {},
   "outputs": [
    {
     "name": "stdout",
     "output_type": "stream",
     "text": [
      "I eat 3 apples.\n",
      "I eat five apples.\n"
     ]
    }
   ],
   "source": [
    "print(\"I eat %d apples.\" % 3)\n",
    "print(\"I eat %s apples.\" % \"five\")"
   ]
  },
  {
   "cell_type": "code",
   "execution_count": 5,
   "id": "39bc5cdb",
   "metadata": {},
   "outputs": [
    {
     "name": "stdout",
     "output_type": "stream",
     "text": [
      "I ate 3 apples. I was sick for three days.\n",
      "Product:      Apple, Price per unit:        5.2.\n"
     ]
    }
   ],
   "source": [
    "number = 3; day = \"three\"\n",
    "print(\"I ate %d apples. I was sick for %s days.\" % (number, day))\n",
    "print(\"Product: %10s, Price per unit: %10.1f.\" % (\"Apple\", 5.243))\n",
    "# %10.1f :: 10칸을 비워두고 소숫점뒤로 한칸만 나오게"
   ]
  },
  {
   "cell_type": "code",
   "execution_count": 6,
   "id": "af41a6a5",
   "metadata": {},
   "outputs": [
    {
     "name": "stdout",
     "output_type": "stream",
     "text": [
      "I'm 36 years old.\n",
      "My name is Sungchul Choi and 36 years old.\n",
      "Product: Apple, Price per unit: 5.243.\n"
     ]
    }
   ],
   "source": [
    "age = 40\n",
    "name = 'Sungchul Choi'\n",
    "print(\"I'm {0} years old.\".format(age))\n",
    "print(\"My name is {0} and {1} years old.\".format(name, age))\n",
    "print(\"Product: {0}, Price per unit: {1:.3f}.\".format(\"Apple\", 5.243))"
   ]
  },
  {
   "cell_type": "code",
   "execution_count": 9,
   "id": "9c7b8872",
   "metadata": {},
   "outputs": [
    {
     "name": "stdout",
     "output_type": "stream",
     "text": [
      "Hello,Sungchul.You are 39.\n",
      "Sungchul            \n",
      "            Sungchul\n",
      "Sungchul############\n",
      "############Sungchul\n",
      "######Sungchul######\n",
      "3.14\n"
     ]
    }
   ],
   "source": [
    "#python3.6이후, f-string\n",
    "name = \"Sungchul\"\n",
    "age = 39\n",
    "print(f\"Hello,{name}.You are {age}.\")\n",
    "print(f'{name:20}')\n",
    "print(f'{name:>20}')\n",
    "print(f'{name:#<20}')\n",
    "print(f'{name:#>20}')\n",
    "print(f'{name:#^20}')\n",
    "\n",
    "number = 3.141592\n",
    "print(f'{number:.2f}')"
   ]
  },
  {
   "cell_type": "code",
   "execution_count": null,
   "id": "d429851a",
   "metadata": {},
   "outputs": [],
   "source": []
  },
  {
   "cell_type": "code",
   "execution_count": null,
   "id": "a40e27c0",
   "metadata": {},
   "outputs": [],
   "source": []
  }
 ],
 "metadata": {
  "kernelspec": {
   "display_name": "Python 3 (ipykernel)",
   "language": "python",
   "name": "python3"
  },
  "language_info": {
   "codemirror_mode": {
    "name": "ipython",
    "version": 3
   },
   "file_extension": ".py",
   "mimetype": "text/x-python",
   "name": "python",
   "nbconvert_exporter": "python",
   "pygments_lexer": "ipython3",
   "version": "3.8.10"
  }
 },
 "nbformat": 4,
 "nbformat_minor": 5
}
