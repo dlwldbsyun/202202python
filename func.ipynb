{
 "cells": [
  {
   "cell_type": "code",
   "execution_count": 1,
   "id": "8eb3a71e",
   "metadata": {},
   "outputs": [
    {
     "name": "stdout",
     "output_type": "stream",
     "text": [
      "[2, 4]\n",
      "[0, 4, 1, 5]\n"
     ]
    }
   ],
   "source": [
    "def spam(eggs):\n",
    "    eggs.append(1)\n",
    "    eggs.append(5)\n",
    "    eggs = [2, 4]\n",
    "    print(eggs)\n",
    "ham = [0, 4]\n",
    "spam(ham)\n",
    "print(ham)"
   ]
  },
  {
   "cell_type": "code",
   "execution_count": 3,
   "id": "4a6a0fa0",
   "metadata": {},
   "outputs": [
    {
     "name": "stdout",
     "output_type": "stream",
     "text": [
      "[2, 4]\n",
      "None\n"
     ]
    }
   ],
   "source": [
    "def spam(eggs):\n",
    "    eggs.append(1)\n",
    "    eggs.append(5)\n",
    "    eggs = [2, 4]\n",
    "    print(eggs)\n",
    "ham = [0, 4]\n",
    "print(spam(ham))"
   ]
  },
  {
   "cell_type": "code",
   "execution_count": 4,
   "id": "9f3dbbbe",
   "metadata": {},
   "outputs": [],
   "source": [
    "def swap_value (x, y):\n",
    "    temp = x\n",
    "    x = y\n",
    "    y = temp\n",
    "def swap_offset (offset_x, offset_y):\n",
    "    temp = a[offset_x]\n",
    "    a[offset_x] = a[offset_y]\n",
    "    a[offset_y] = temp \n",
    "def swap_reference (listex, offset_x, offset_y):\n",
    "    temp = listex[offset_x]\n",
    "    listex[offset_x] = listex[offset_y]\n",
    "    listex[offset_y] = temp"
   ]
  },
  {
   "cell_type": "code",
   "execution_count": 6,
   "id": "11b6cf01",
   "metadata": {},
   "outputs": [
    {
     "data": {
      "text/plain": [
       "[1, 2, 3, 4, 5]"
      ]
     },
     "execution_count": 6,
     "metadata": {},
     "output_type": "execute_result"
    }
   ],
   "source": [
    "ex = [1, 2, 3, 4, 5]\n",
    "swap_value(ex[0], ex[1])\n",
    "ex"
   ]
  },
  {
   "cell_type": "code",
   "execution_count": 9,
   "id": "ad96f36f",
   "metadata": {},
   "outputs": [
    {
     "data": {
      "text/plain": [
       "[2, 1, 3, 4, 5]"
      ]
     },
     "execution_count": 9,
     "metadata": {},
     "output_type": "execute_result"
    }
   ],
   "source": [
    "a = [1, 2, 3, 4, 5]\n",
    "swap_offset(0, 1)\n",
    "a"
   ]
  },
  {
   "cell_type": "code",
   "execution_count": 11,
   "id": "69956336",
   "metadata": {},
   "outputs": [
    {
     "data": {
      "text/plain": [
       "[2, 1, 3, 4, 5]"
      ]
     },
     "execution_count": 11,
     "metadata": {},
     "output_type": "execute_result"
    }
   ],
   "source": [
    "a = [1, 2, 3, 4, 5]\n",
    "swap_reference(a,0, 1)\n",
    "a \n",
    "# swap_reference에서 listex가 a를 복사해서 사용함"
   ]
  },
  {
   "cell_type": "code",
   "execution_count": 12,
   "id": "358e241f",
   "metadata": {},
   "outputs": [
    {
     "name": "stdout",
     "output_type": "stream",
     "text": [
      "London\n",
      "London\n"
     ]
    }
   ],
   "source": [
    "def f():\n",
    "    global s\n",
    "    s = \"London\"\n",
    "    print(s)\n",
    "s = \"Paris\"\n",
    "f()\n",
    "print(s)"
   ]
  },
  {
   "cell_type": "code",
   "execution_count": 14,
   "id": "14cb1caa",
   "metadata": {},
   "outputs": [
    {
     "name": "stdout",
     "output_type": "stream",
     "text": [
      "-----before-----\n",
      "a:  5  b:  7  a+b:  12\n",
      "-----In-----\n",
      "a:  5  b:  7  a+b:  12  total:  12\n",
      "-----after-----\n",
      "a:  5  b:  7  a+b:  12  total:  0\n"
     ]
    }
   ],
   "source": [
    "def calculate(x,y):\n",
    "    total = x + y\n",
    "    print(\"-----In-----\")\n",
    "    print(\"a: \", a, \" b: \", b, \" a+b: \", a+b, \" total: \", total)\n",
    "    return total\n",
    "a = 5\n",
    "b = 7\n",
    "total = 0\n",
    "print(\"-----before-----\")\n",
    "print(\"a: \", a, \" b: \", b, \" a+b: \", a+b)\n",
    "\n",
    "sum = calculate(a, b)\n",
    "print(\"-----after-----\")\n",
    "print(\"a: \", a, \" b: \", b, \" a+b: \", a+b, \" total: \", total)"
   ]
  },
  {
   "cell_type": "code",
   "execution_count": 15,
   "id": "722f04ed",
   "metadata": {},
   "outputs": [
    {
     "name": "stdout",
     "output_type": "stream",
     "text": [
      "Input Number for Factorial Calculation: 10\n",
      "3628800\n"
     ]
    }
   ],
   "source": [
    "def factorial(n):\n",
    "    if n == 1:\n",
    "        return 1\n",
    "    else:\n",
    "        return n * factorial(n-1)\n",
    "print(factorial(int(input(\"Input Number for Factorial Calculation: \"))))"
   ]
  },
  {
   "cell_type": "code",
   "execution_count": 16,
   "id": "392f3869",
   "metadata": {},
   "outputs": [
    {
     "name": "stdout",
     "output_type": "stream",
     "text": [
      "Input Number for Factorial Calculation: 5\n",
      "120\n"
     ]
    }
   ],
   "source": [
    "def fact(n):\n",
    "    for i in range(n-1,1,-1):\n",
    "        return n * i\n",
    "print(factorial(int(input(\"Input Number for Factorial Calculation: \"))))"
   ]
  },
  {
   "cell_type": "code",
   "execution_count": null,
   "id": "5438e8b4",
   "metadata": {},
   "outputs": [],
   "source": []
  }
 ],
 "metadata": {
  "kernelspec": {
   "display_name": "Python 3 (ipykernel)",
   "language": "python",
   "name": "python3"
  },
  "language_info": {
   "codemirror_mode": {
    "name": "ipython",
    "version": 3
   },
   "file_extension": ".py",
   "mimetype": "text/x-python",
   "name": "python",
   "nbconvert_exporter": "python",
   "pygments_lexer": "ipython3",
   "version": "3.8.10"
  }
 },
 "nbformat": 4,
 "nbformat_minor": 5
}
