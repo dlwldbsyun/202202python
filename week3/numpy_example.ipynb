{
 "cells": [
  {
   "cell_type": "code",
   "execution_count": 6,
   "id": "8fbcff69",
   "metadata": {},
   "outputs": [],
   "source": [
    "# 가상환경 생성하기\n",
    "# conda create --name (가상환경 이름) python=3.9 (설치하고 싶은 모듈들numpy,matplotlib,tqdm 등)\n",
    "# conda env list 가상환경 목록 확인\n",
    "# conda remove --name (가상환경 이름) --all 가상환경 삭제\n",
    "# conda activate (가상환경 이름) / conda deactivate \n",
    "# 주피터 노트북에 가상환경 등록하기\n",
    "# conda install ipykernel\n",
    "# python -m ipykernel install --user --name (가상환경 이름) --display-name \"(가상환경 이름)\"\n",
    "# jupyter notebook\n",
    "# 주피터: new -> (파이썬 대신 가상환경 이름 선택)\n",
    "\n",
    "import numpy as np # dynamic typing을 지원하지 않음"
   ]
  },
  {
   "cell_type": "code",
   "execution_count": null,
   "id": "4be2f79d",
   "metadata": {},
   "outputs": [],
   "source": []
  },
  {
   "cell_type": "code",
   "execution_count": 2,
   "id": "f8291efa",
   "metadata": {},
   "outputs": [
    {
     "data": {
      "text/plain": [
       "array([1., 4., 5., 8.])"
      ]
     },
     "execution_count": 2,
     "metadata": {},
     "output_type": "execute_result"
    }
   ],
   "source": [
    "test_array = np.array([\"1\",\"4\",5,8],float)\n",
    "test_array # 그냥 list에서는 다양한 자료형이 리스트에 섞여 들어갈 수 있으나\n",
    "# 하지만 numpy는 리스트에 하나의 자료형만 들어갈 수 있음 그래서 결과가 float으로 됌"
   ]
  },
  {
   "cell_type": "code",
   "execution_count": 3,
   "id": "3efec772",
   "metadata": {},
   "outputs": [
    {
     "data": {
      "text/plain": [
       "numpy.float64"
      ]
     },
     "execution_count": 3,
     "metadata": {},
     "output_type": "execute_result"
    }
   ],
   "source": [
    "type(test_array[3]) # 64비트 하나의 데이터가 차지하는 양이 64bit"
   ]
  },
  {
   "cell_type": "code",
   "execution_count": 11,
   "id": "2cd36a09",
   "metadata": {},
   "outputs": [
    {
     "data": {
      "text/plain": [
       "array([1., 4., 5., 8.], dtype=float32)"
      ]
     },
     "execution_count": 11,
     "metadata": {},
     "output_type": "execute_result"
    }
   ],
   "source": [
    "test_array = np.array([1,4,5,\"8\"],np.float32) # string type의 데이터\n",
    "test_array"
   ]
  },
  {
   "cell_type": "code",
   "execution_count": 7,
   "id": "dfbaaf31",
   "metadata": {},
   "outputs": [
    {
     "data": {
      "text/plain": [
       "numpy.float64"
      ]
     },
     "execution_count": 7,
     "metadata": {},
     "output_type": "execute_result"
    }
   ],
   "source": [
    " type(test_array[3]) # float type으로 자동 형변환 실시"
   ]
  },
  {
   "cell_type": "code",
   "execution_count": 8,
   "id": "96daf390",
   "metadata": {},
   "outputs": [
    {
     "data": {
      "text/plain": [
       "dtype('float64')"
      ]
     },
     "execution_count": 8,
     "metadata": {},
     "output_type": "execute_result"
    }
   ],
   "source": [
    "test_array.dtype # 배열 전체의 데이터 타입을 반환함"
   ]
  },
  {
   "cell_type": "code",
   "execution_count": 9,
   "id": "87ad86c8",
   "metadata": {},
   "outputs": [
    {
     "data": {
      "text/plain": [
       "array([1., 4., 5., 8.])"
      ]
     },
     "execution_count": 9,
     "metadata": {},
     "output_type": "execute_result"
    }
   ],
   "source": [
    "test_array"
   ]
  },
  {
   "cell_type": "code",
   "execution_count": 10,
   "id": "c9a25d76",
   "metadata": {},
   "outputs": [
    {
     "data": {
      "text/plain": [
       "(4,)"
      ]
     },
     "execution_count": 10,
     "metadata": {},
     "output_type": "execute_result"
    }
   ],
   "source": [
    "test_array.shape # 배열의 shape을 반환 -> 행이 4개 열이 0개 matrix"
   ]
  },
  {
   "cell_type": "code",
   "execution_count": null,
   "id": "7129c1bb",
   "metadata": {},
   "outputs": [],
   "source": []
  }
 ],
 "metadata": {
  "kernelspec": {
   "display_name": "my_pro",
   "language": "python",
   "name": "my_pro"
  },
  "language_info": {
   "codemirror_mode": {
    "name": "ipython",
    "version": 3
   },
   "file_extension": ".py",
   "mimetype": "text/x-python",
   "name": "python",
   "nbconvert_exporter": "python",
   "pygments_lexer": "ipython3",
   "version": "3.9.7"
  }
 },
 "nbformat": 4,
 "nbformat_minor": 5
}
