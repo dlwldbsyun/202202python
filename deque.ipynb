{
 "cells": [
  {
   "cell_type": "code",
   "execution_count": 2,
   "id": "62839a6b",
   "metadata": {},
   "outputs": [],
   "source": [
    "from collections import deque"
   ]
  },
  {
   "cell_type": "code",
   "execution_count": 3,
   "id": "fd87cfaf",
   "metadata": {},
   "outputs": [
    {
     "data": {
      "text/plain": [
       "deque([10, 0, 1, 2, 3, 4])"
      ]
     },
     "execution_count": 3,
     "metadata": {},
     "output_type": "execute_result"
    }
   ],
   "source": [
    "deque_list = deque()\n",
    "for i in range(5):\n",
    "    deque_list.append(i)\n",
    "deque_list.appendleft(10)\n",
    "deque_list"
   ]
  },
  {
   "cell_type": "code",
   "execution_count": 5,
   "id": "6da41412",
   "metadata": {},
   "outputs": [
    {
     "data": {
      "text/plain": [
       "deque([4, 10, 0, 1, 2, 3])"
      ]
     },
     "execution_count": 5,
     "metadata": {},
     "output_type": "execute_result"
    }
   ],
   "source": [
    "deque_list.rotate(1)\n",
    "deque_list"
   ]
  },
  {
   "cell_type": "code",
   "execution_count": 9,
   "id": "052c9829",
   "metadata": {},
   "outputs": [],
   "source": [
    "deque_list.extend([5,6,7])\n",
    "deque_list"
   ]
  },
  {
   "cell_type": "code",
   "execution_count": 11,
   "id": "afae1365",
   "metadata": {},
   "outputs": [
    {
     "data": {
      "text/plain": [
       "deque([7,\n",
       "       6,\n",
       "       5,\n",
       "       7,\n",
       "       6,\n",
       "       5,\n",
       "       7,\n",
       "       6,\n",
       "       5,\n",
       "       7,\n",
       "       6,\n",
       "       5,\n",
       "       7,\n",
       "       6,\n",
       "       5,\n",
       "       7,\n",
       "       6,\n",
       "       5,\n",
       "       4,\n",
       "       10,\n",
       "       0,\n",
       "       1,\n",
       "       2,\n",
       "       3,\n",
       "       5,\n",
       "       6,\n",
       "       7,\n",
       "       5,\n",
       "       6,\n",
       "       7,\n",
       "       5,\n",
       "       6,\n",
       "       7,\n",
       "       5,\n",
       "       6,\n",
       "       7])"
      ]
     },
     "execution_count": 11,
     "metadata": {},
     "output_type": "execute_result"
    }
   ],
   "source": [
    "deque_list.extendleft([5,6,7])\n",
    "deque_list"
   ]
  },
  {
   "cell_type": "code",
   "execution_count": 15,
   "id": "68ef3c80",
   "metadata": {},
   "outputs": [
    {
     "name": "stdout",
     "output_type": "stream",
     "text": [
      "131 µs ± 7.06 µs per loop (mean ± std. dev. of 7 runs, 10000 loops each)\n"
     ]
    }
   ],
   "source": [
    "import time\n",
    "\n",
    "def general_list():\n",
    "    just_list = []\n",
    "    for i in range(100):\n",
    "        just_list.append(i)\n",
    "        just_list.pop()\n",
    "        \n",
    "%timeit general_list()"
   ]
  },
  {
   "cell_type": "code",
   "execution_count": 19,
   "id": "098a2222",
   "metadata": {},
   "outputs": [
    {
     "name": "stdout",
     "output_type": "stream",
     "text": [
      "176 µs ± 29.5 µs per loop (mean ± std. dev. of 7 runs, 10000 loops each)\n"
     ]
    }
   ],
   "source": [
    "\n",
    "def deque_list():\n",
    "    deque_list = deque()\n",
    "    \n",
    "    for i in range(100):\n",
    "        for i in range(100):\n",
    "            deque_list.append(i)\n",
    "            deque_list.pop()\n",
    "\n",
    "%timeit deque_list()           \n",
    "    "
   ]
  },
  {
   "cell_type": "code",
   "execution_count": 23,
   "id": "8ffa0331",
   "metadata": {},
   "outputs": [
    {
     "data": {
      "text/plain": [
       "defaultdict(<function __main__.default_value()>, {})"
      ]
     },
     "execution_count": 23,
     "metadata": {},
     "output_type": "execute_result"
    }
   ],
   "source": [
    "# defaultdict\n",
    "def default_value():\n",
    "    return 0\n",
    "\n",
    "from collections import defaultdict\n",
    "\n",
    "d = defaultdict(default_value)\n",
    "d"
   ]
  },
  {
   "cell_type": "code",
   "execution_count": 22,
   "id": "cbbd81de",
   "metadata": {},
   "outputs": [
    {
     "data": {
      "text/plain": [
       "0"
      ]
     },
     "execution_count": 22,
     "metadata": {},
     "output_type": "execute_result"
    }
   ],
   "source": [
    "d[\"first\"]"
   ]
  },
  {
   "cell_type": "code",
   "execution_count": 26,
   "id": "77ba0948",
   "metadata": {},
   "outputs": [],
   "source": [
    "text = \"\"\"A press release is the quickest and easiest way to get free publicity. If\n",
    "well written, a press release can result in multiple published articles about your\n",
    "firm and its products. And that can mean new prospects contacting you asking you to\n",
    "sell to them. ….\"\"\".lower().split()"
   ]
  },
  {
   "cell_type": "code",
   "execution_count": 31,
   "id": "136a4b79",
   "metadata": {},
   "outputs": [
    {
     "data": {
      "text/plain": [
       "['a',\n",
       " 'press',\n",
       " 'release',\n",
       " 'is',\n",
       " 'the',\n",
       " 'quickest',\n",
       " 'and',\n",
       " 'easiest',\n",
       " 'way',\n",
       " 'to',\n",
       " 'get',\n",
       " 'free',\n",
       " 'publicity.',\n",
       " 'if',\n",
       " 'well',\n",
       " 'written,',\n",
       " 'a',\n",
       " 'press',\n",
       " 'release',\n",
       " 'can',\n",
       " 'result',\n",
       " 'in',\n",
       " 'multiple',\n",
       " 'published',\n",
       " 'articles',\n",
       " 'about',\n",
       " 'your',\n",
       " 'firm',\n",
       " 'and',\n",
       " 'its',\n",
       " 'products.',\n",
       " 'and',\n",
       " 'that',\n",
       " 'can',\n",
       " 'mean',\n",
       " 'new',\n",
       " 'prospects',\n",
       " 'contacting',\n",
       " 'you',\n",
       " 'asking',\n",
       " 'you',\n",
       " 'to',\n",
       " 'sell',\n",
       " 'to',\n",
       " 'them.',\n",
       " '….']"
      ]
     },
     "execution_count": 31,
     "metadata": {},
     "output_type": "execute_result"
    }
   ],
   "source": [
    "\n",
    "text"
   ]
  },
  {
   "cell_type": "code",
   "execution_count": 34,
   "id": "d213b652",
   "metadata": {},
   "outputs": [],
   "source": [
    "from collections import OrderedDict\n",
    "\n",
    "def get_key(x):\n",
    "    return x[1]\n",
    "\n",
    "d = defaultdict(lamda : 0)"
   ]
  },
  {
   "cell_type": "code",
   "execution_count": 28,
   "id": "75db0b11",
   "metadata": {},
   "outputs": [],
   "source": [
    "for word in text:\n",
    "    d[word] += 1"
   ]
  },
  {
   "cell_type": "code",
   "execution_count": 29,
   "id": "976ce934",
   "metadata": {},
   "outputs": [
    {
     "data": {
      "text/plain": [
       "defaultdict(<function __main__.default_value()>,\n",
       "            {'a': 2,\n",
       "             'press': 2,\n",
       "             'release': 2,\n",
       "             'is': 1,\n",
       "             'the': 1,\n",
       "             'quickest': 1,\n",
       "             'and': 3,\n",
       "             'easiest': 1,\n",
       "             'way': 1,\n",
       "             'to': 3,\n",
       "             'get': 1,\n",
       "             'free': 1,\n",
       "             'publicity.': 1,\n",
       "             'if': 1,\n",
       "             'well': 1,\n",
       "             'written,': 1,\n",
       "             'can': 2,\n",
       "             'result': 1,\n",
       "             'in': 1,\n",
       "             'multiple': 1,\n",
       "             'published': 1,\n",
       "             'articles': 1,\n",
       "             'about': 1,\n",
       "             'your': 1,\n",
       "             'firm': 1,\n",
       "             'its': 1,\n",
       "             'products.': 1,\n",
       "             'that': 1,\n",
       "             'mean': 1,\n",
       "             'new': 1,\n",
       "             'prospects': 1,\n",
       "             'contacting': 1,\n",
       "             'you': 2,\n",
       "             'asking': 1,\n",
       "             'sell': 1,\n",
       "             'them.': 1,\n",
       "             '….': 1})"
      ]
     },
     "execution_count": 29,
     "metadata": {},
     "output_type": "execute_result"
    }
   ],
   "source": [
    "d"
   ]
  },
  {
   "cell_type": "code",
   "execution_count": 37,
   "id": "103f2580",
   "metadata": {},
   "outputs": [
    {
     "ename": "NameError",
     "evalue": "name 'get_key' is not defined",
     "output_type": "error",
     "traceback": [
      "\u001b[1;31m---------------------------------------------------------------------------\u001b[0m",
      "\u001b[1;31mNameError\u001b[0m                                 Traceback (most recent call last)",
      "\u001b[1;32m~\\AppData\\Local\\Temp/ipykernel_42664/2245153508.py\u001b[0m in \u001b[0;36m<module>\u001b[1;34m\u001b[0m\n\u001b[0;32m      1\u001b[0m \u001b[0msorted_dict\u001b[0m \u001b[1;33m=\u001b[0m \u001b[0mOrderedDict\u001b[0m\u001b[1;33m(\u001b[0m\u001b[1;33m)\u001b[0m\u001b[1;33m\u001b[0m\u001b[1;33m\u001b[0m\u001b[0m\n\u001b[1;32m----> 2\u001b[1;33m \u001b[1;32mfor\u001b[0m \u001b[0mi\u001b[0m\u001b[1;33m,\u001b[0m \u001b[0mv\u001b[0m \u001b[1;32min\u001b[0m \u001b[0msorted\u001b[0m\u001b[1;33m(\u001b[0m\u001b[0md\u001b[0m\u001b[1;33m.\u001b[0m\u001b[0mitems\u001b[0m\u001b[1;33m(\u001b[0m\u001b[1;33m)\u001b[0m\u001b[1;33m,\u001b[0m \u001b[0mkey\u001b[0m \u001b[1;33m=\u001b[0m \u001b[0mget_key\u001b[0m\u001b[1;33m,\u001b[0m \u001b[0mreverse\u001b[0m \u001b[1;33m=\u001b[0m \u001b[1;32mTrue\u001b[0m\u001b[1;33m)\u001b[0m\u001b[1;33m:\u001b[0m\u001b[1;33m\u001b[0m\u001b[1;33m\u001b[0m\u001b[0m\n\u001b[0m\u001b[0;32m      3\u001b[0m     \u001b[0msorted_dict\u001b[0m\u001b[1;33m[\u001b[0m\u001b[0mi\u001b[0m\u001b[1;33m]\u001b[0m \u001b[1;33m=\u001b[0m \u001b[0mv\u001b[0m\u001b[1;33m\u001b[0m\u001b[1;33m\u001b[0m\u001b[0m\n\u001b[0;32m      4\u001b[0m \u001b[0mprint\u001b[0m\u001b[1;33m(\u001b[0m\u001b[0msorted_dict\u001b[0m\u001b[1;33m)\u001b[0m\u001b[1;33m\u001b[0m\u001b[1;33m\u001b[0m\u001b[0m\n\u001b[0;32m      5\u001b[0m \u001b[0msorted_dict\u001b[0m\u001b[1;33m[\u001b[0m\u001b[1;34m\"to\"\u001b[0m\u001b[1;33m]\u001b[0m\u001b[1;33m\u001b[0m\u001b[1;33m\u001b[0m\u001b[0m\n",
      "\u001b[1;31mNameError\u001b[0m: name 'get_key' is not defined"
     ]
    }
   ],
   "source": [
    "sorted_dict = OrderedDict()\n",
    "for i, v in sorted(d.items(), key = get_key, reverse = True):\n",
    "    sorted_dict[i] = v\n",
    "print(sorted_dict)\n",
    "sorted_dict[\"to\"]"
   ]
  },
  {
   "cell_type": "code",
   "execution_count": null,
   "id": "a5f3cab4",
   "metadata": {},
   "outputs": [],
   "source": []
  }
 ],
 "metadata": {
  "kernelspec": {
   "display_name": "Python 3 (ipykernel)",
   "language": "python",
   "name": "python3"
  },
  "language_info": {
   "codemirror_mode": {
    "name": "ipython",
    "version": 3
   },
   "file_extension": ".py",
   "mimetype": "text/x-python",
   "name": "python",
   "nbconvert_exporter": "python",
   "pygments_lexer": "ipython3",
   "version": "3.8.10"
  }
 },
 "nbformat": 4,
 "nbformat_minor": 5
}
